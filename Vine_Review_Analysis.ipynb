{
 "cells": [
  {
   "cell_type": "code",
   "execution_count": 1,
   "id": "2e8180e1-6e47-4022-8546-43a47ca54eac",
   "metadata": {},
   "outputs": [],
   "source": [
    "import pandas as pd"
   ]
  },
  {
   "cell_type": "code",
   "execution_count": 2,
   "id": "2edc17af-e68c-41ee-9cd9-1a3352b9836a",
   "metadata": {},
   "outputs": [
    {
     "data": {
      "text/html": [
       "<div>\n",
       "<style scoped>\n",
       "    .dataframe tbody tr th:only-of-type {\n",
       "        vertical-align: middle;\n",
       "    }\n",
       "\n",
       "    .dataframe tbody tr th {\n",
       "        vertical-align: top;\n",
       "    }\n",
       "\n",
       "    .dataframe thead th {\n",
       "        text-align: right;\n",
       "    }\n",
       "</style>\n",
       "<table border=\"1\" class=\"dataframe\">\n",
       "  <thead>\n",
       "    <tr style=\"text-align: right;\">\n",
       "      <th></th>\n",
       "      <th>review_id</th>\n",
       "      <th>star_rating</th>\n",
       "      <th>helpful_votes</th>\n",
       "      <th>total_votes</th>\n",
       "      <th>vine</th>\n",
       "      <th>verified_purchase</th>\n",
       "    </tr>\n",
       "  </thead>\n",
       "  <tbody>\n",
       "    <tr>\n",
       "      <th>0</th>\n",
       "      <td>R3O9SGZBVQBV76</td>\n",
       "      <td>5</td>\n",
       "      <td>0</td>\n",
       "      <td>0</td>\n",
       "      <td>N</td>\n",
       "      <td>Y</td>\n",
       "    </tr>\n",
       "    <tr>\n",
       "      <th>1</th>\n",
       "      <td>RKH8BNC3L5DLF</td>\n",
       "      <td>5</td>\n",
       "      <td>0</td>\n",
       "      <td>0</td>\n",
       "      <td>N</td>\n",
       "      <td>Y</td>\n",
       "    </tr>\n",
       "    <tr>\n",
       "      <th>2</th>\n",
       "      <td>R2HLE8WKZSU3NL</td>\n",
       "      <td>2</td>\n",
       "      <td>1</td>\n",
       "      <td>1</td>\n",
       "      <td>N</td>\n",
       "      <td>Y</td>\n",
       "    </tr>\n",
       "    <tr>\n",
       "      <th>3</th>\n",
       "      <td>R31U3UH5AZ42LL</td>\n",
       "      <td>5</td>\n",
       "      <td>0</td>\n",
       "      <td>0</td>\n",
       "      <td>N</td>\n",
       "      <td>Y</td>\n",
       "    </tr>\n",
       "    <tr>\n",
       "      <th>4</th>\n",
       "      <td>R2SV659OUJ945Y</td>\n",
       "      <td>4</td>\n",
       "      <td>0</td>\n",
       "      <td>0</td>\n",
       "      <td>N</td>\n",
       "      <td>Y</td>\n",
       "    </tr>\n",
       "    <tr>\n",
       "      <th>...</th>\n",
       "      <td>...</td>\n",
       "      <td>...</td>\n",
       "      <td>...</td>\n",
       "      <td>...</td>\n",
       "      <td>...</td>\n",
       "      <td>...</td>\n",
       "    </tr>\n",
       "    <tr>\n",
       "      <th>960867</th>\n",
       "      <td>REH8UQZAXQS40</td>\n",
       "      <td>2</td>\n",
       "      <td>17</td>\n",
       "      <td>17</td>\n",
       "      <td>N</td>\n",
       "      <td>N</td>\n",
       "    </tr>\n",
       "    <tr>\n",
       "      <th>960868</th>\n",
       "      <td>RJ14QPZEOI9P8</td>\n",
       "      <td>5</td>\n",
       "      <td>9</td>\n",
       "      <td>10</td>\n",
       "      <td>N</td>\n",
       "      <td>N</td>\n",
       "    </tr>\n",
       "    <tr>\n",
       "      <th>960869</th>\n",
       "      <td>R2B1G5650WWFCE</td>\n",
       "      <td>5</td>\n",
       "      <td>3</td>\n",
       "      <td>16</td>\n",
       "      <td>N</td>\n",
       "      <td>N</td>\n",
       "    </tr>\n",
       "    <tr>\n",
       "      <th>960870</th>\n",
       "      <td>R2MMGPUWXXOFI2</td>\n",
       "      <td>4</td>\n",
       "      <td>0</td>\n",
       "      <td>0</td>\n",
       "      <td>N</td>\n",
       "      <td>N</td>\n",
       "    </tr>\n",
       "    <tr>\n",
       "      <th>960871</th>\n",
       "      <td>R2BZMVAERMRUDE</td>\n",
       "      <td>4</td>\n",
       "      <td>5</td>\n",
       "      <td>7</td>\n",
       "      <td>N</td>\n",
       "      <td>N</td>\n",
       "    </tr>\n",
       "  </tbody>\n",
       "</table>\n",
       "<p>960872 rows × 6 columns</p>\n",
       "</div>"
      ],
      "text/plain": [
       "             review_id  star_rating  helpful_votes  total_votes vine  \\\n",
       "0       R3O9SGZBVQBV76            5              0            0    N   \n",
       "1        RKH8BNC3L5DLF            5              0            0    N   \n",
       "2       R2HLE8WKZSU3NL            2              1            1    N   \n",
       "3       R31U3UH5AZ42LL            5              0            0    N   \n",
       "4       R2SV659OUJ945Y            4              0            0    N   \n",
       "...                ...          ...            ...          ...  ...   \n",
       "960867   REH8UQZAXQS40            2             17           17    N   \n",
       "960868   RJ14QPZEOI9P8            5              9           10    N   \n",
       "960869  R2B1G5650WWFCE            5              3           16    N   \n",
       "960870  R2MMGPUWXXOFI2            4              0            0    N   \n",
       "960871  R2BZMVAERMRUDE            4              5            7    N   \n",
       "\n",
       "       verified_purchase  \n",
       "0                      Y  \n",
       "1                      Y  \n",
       "2                      Y  \n",
       "3                      Y  \n",
       "4                      Y  \n",
       "...                  ...  \n",
       "960867                 N  \n",
       "960868                 N  \n",
       "960869                 N  \n",
       "960870                 N  \n",
       "960871                 N  \n",
       "\n",
       "[960872 rows x 6 columns]"
      ]
     },
     "execution_count": 2,
     "metadata": {},
     "output_type": "execute_result"
    }
   ],
   "source": [
    "vine_df = pd.read_csv(\"./data/vine_table.csv\")\n",
    "vine_df"
   ]
  },
  {
   "cell_type": "code",
   "execution_count": 3,
   "id": "7aeed01d-034a-412d-876c-800cc62d865c",
   "metadata": {},
   "outputs": [
    {
     "data": {
      "text/html": [
       "<div>\n",
       "<style scoped>\n",
       "    .dataframe tbody tr th:only-of-type {\n",
       "        vertical-align: middle;\n",
       "    }\n",
       "\n",
       "    .dataframe tbody tr th {\n",
       "        vertical-align: top;\n",
       "    }\n",
       "\n",
       "    .dataframe thead th {\n",
       "        text-align: right;\n",
       "    }\n",
       "</style>\n",
       "<table border=\"1\" class=\"dataframe\">\n",
       "  <thead>\n",
       "    <tr style=\"text-align: right;\">\n",
       "      <th></th>\n",
       "      <th>review_id</th>\n",
       "      <th>star_rating</th>\n",
       "      <th>helpful_votes</th>\n",
       "      <th>total_votes</th>\n",
       "      <th>vine</th>\n",
       "      <th>verified_purchase</th>\n",
       "    </tr>\n",
       "  </thead>\n",
       "  <tbody>\n",
       "    <tr>\n",
       "      <th>478</th>\n",
       "      <td>R14W2VCHHK5V7W</td>\n",
       "      <td>5</td>\n",
       "      <td>19</td>\n",
       "      <td>20</td>\n",
       "      <td>N</td>\n",
       "      <td>Y</td>\n",
       "    </tr>\n",
       "    <tr>\n",
       "      <th>552</th>\n",
       "      <td>R1S3T57O3OYT5S</td>\n",
       "      <td>5</td>\n",
       "      <td>19</td>\n",
       "      <td>20</td>\n",
       "      <td>N</td>\n",
       "      <td>Y</td>\n",
       "    </tr>\n",
       "    <tr>\n",
       "      <th>619</th>\n",
       "      <td>R1BTWIBLYYVOV7</td>\n",
       "      <td>5</td>\n",
       "      <td>30</td>\n",
       "      <td>30</td>\n",
       "      <td>N</td>\n",
       "      <td>Y</td>\n",
       "    </tr>\n",
       "    <tr>\n",
       "      <th>1025</th>\n",
       "      <td>R6F9VY91ADPLA</td>\n",
       "      <td>1</td>\n",
       "      <td>8</td>\n",
       "      <td>30</td>\n",
       "      <td>N</td>\n",
       "      <td>N</td>\n",
       "    </tr>\n",
       "    <tr>\n",
       "      <th>1548</th>\n",
       "      <td>R3PXNV89DFIXKV</td>\n",
       "      <td>5</td>\n",
       "      <td>35</td>\n",
       "      <td>37</td>\n",
       "      <td>N</td>\n",
       "      <td>Y</td>\n",
       "    </tr>\n",
       "    <tr>\n",
       "      <th>...</th>\n",
       "      <td>...</td>\n",
       "      <td>...</td>\n",
       "      <td>...</td>\n",
       "      <td>...</td>\n",
       "      <td>...</td>\n",
       "      <td>...</td>\n",
       "    </tr>\n",
       "    <tr>\n",
       "      <th>960838</th>\n",
       "      <td>R7NJYD6L80A8</td>\n",
       "      <td>5</td>\n",
       "      <td>20</td>\n",
       "      <td>21</td>\n",
       "      <td>N</td>\n",
       "      <td>N</td>\n",
       "    </tr>\n",
       "    <tr>\n",
       "      <th>960851</th>\n",
       "      <td>R1721LXOWD6H3C</td>\n",
       "      <td>1</td>\n",
       "      <td>11</td>\n",
       "      <td>27</td>\n",
       "      <td>N</td>\n",
       "      <td>N</td>\n",
       "    </tr>\n",
       "    <tr>\n",
       "      <th>960860</th>\n",
       "      <td>R37CF8J75KF7ZR</td>\n",
       "      <td>2</td>\n",
       "      <td>35</td>\n",
       "      <td>66</td>\n",
       "      <td>N</td>\n",
       "      <td>N</td>\n",
       "    </tr>\n",
       "    <tr>\n",
       "      <th>960863</th>\n",
       "      <td>R1W6TRBVZSPGCJ</td>\n",
       "      <td>1</td>\n",
       "      <td>20</td>\n",
       "      <td>20</td>\n",
       "      <td>N</td>\n",
       "      <td>N</td>\n",
       "    </tr>\n",
       "    <tr>\n",
       "      <th>960866</th>\n",
       "      <td>R1LGRK91D2CS4N</td>\n",
       "      <td>4</td>\n",
       "      <td>32</td>\n",
       "      <td>39</td>\n",
       "      <td>N</td>\n",
       "      <td>N</td>\n",
       "    </tr>\n",
       "  </tbody>\n",
       "</table>\n",
       "<p>9631 rows × 6 columns</p>\n",
       "</div>"
      ],
      "text/plain": [
       "             review_id  star_rating  helpful_votes  total_votes vine  \\\n",
       "478     R14W2VCHHK5V7W            5             19           20    N   \n",
       "552     R1S3T57O3OYT5S            5             19           20    N   \n",
       "619     R1BTWIBLYYVOV7            5             30           30    N   \n",
       "1025     R6F9VY91ADPLA            1              8           30    N   \n",
       "1548    R3PXNV89DFIXKV            5             35           37    N   \n",
       "...                ...          ...            ...          ...  ...   \n",
       "960838    R7NJYD6L80A8            5             20           21    N   \n",
       "960851  R1721LXOWD6H3C            1             11           27    N   \n",
       "960860  R37CF8J75KF7ZR            2             35           66    N   \n",
       "960863  R1W6TRBVZSPGCJ            1             20           20    N   \n",
       "960866  R1LGRK91D2CS4N            4             32           39    N   \n",
       "\n",
       "       verified_purchase  \n",
       "478                    Y  \n",
       "552                    Y  \n",
       "619                    Y  \n",
       "1025                   N  \n",
       "1548                   Y  \n",
       "...                  ...  \n",
       "960838                 N  \n",
       "960851                 N  \n",
       "960860                 N  \n",
       "960863                 N  \n",
       "960866                 N  \n",
       "\n",
       "[9631 rows x 6 columns]"
      ]
     },
     "execution_count": 3,
     "metadata": {},
     "output_type": "execute_result"
    }
   ],
   "source": [
    "vine_df_20 = vine_df.loc[vine_df[\"total_votes\"] >= 20]\n",
    "vine_df_20"
   ]
  },
  {
   "cell_type": "code",
   "execution_count": 4,
   "id": "294b6f2c-2db7-4495-a02d-3d4611f575c1",
   "metadata": {},
   "outputs": [
    {
     "data": {
      "text/html": [
       "<div>\n",
       "<style scoped>\n",
       "    .dataframe tbody tr th:only-of-type {\n",
       "        vertical-align: middle;\n",
       "    }\n",
       "\n",
       "    .dataframe tbody tr th {\n",
       "        vertical-align: top;\n",
       "    }\n",
       "\n",
       "    .dataframe thead th {\n",
       "        text-align: right;\n",
       "    }\n",
       "</style>\n",
       "<table border=\"1\" class=\"dataframe\">\n",
       "  <thead>\n",
       "    <tr style=\"text-align: right;\">\n",
       "      <th></th>\n",
       "      <th>review_id</th>\n",
       "      <th>star_rating</th>\n",
       "      <th>helpful_votes</th>\n",
       "      <th>total_votes</th>\n",
       "      <th>vine</th>\n",
       "      <th>verified_purchase</th>\n",
       "    </tr>\n",
       "  </thead>\n",
       "  <tbody>\n",
       "    <tr>\n",
       "      <th>478</th>\n",
       "      <td>R14W2VCHHK5V7W</td>\n",
       "      <td>5</td>\n",
       "      <td>19</td>\n",
       "      <td>20</td>\n",
       "      <td>N</td>\n",
       "      <td>Y</td>\n",
       "    </tr>\n",
       "    <tr>\n",
       "      <th>552</th>\n",
       "      <td>R1S3T57O3OYT5S</td>\n",
       "      <td>5</td>\n",
       "      <td>19</td>\n",
       "      <td>20</td>\n",
       "      <td>N</td>\n",
       "      <td>Y</td>\n",
       "    </tr>\n",
       "    <tr>\n",
       "      <th>619</th>\n",
       "      <td>R1BTWIBLYYVOV7</td>\n",
       "      <td>5</td>\n",
       "      <td>30</td>\n",
       "      <td>30</td>\n",
       "      <td>N</td>\n",
       "      <td>Y</td>\n",
       "    </tr>\n",
       "    <tr>\n",
       "      <th>1548</th>\n",
       "      <td>R3PXNV89DFIXKV</td>\n",
       "      <td>5</td>\n",
       "      <td>35</td>\n",
       "      <td>37</td>\n",
       "      <td>N</td>\n",
       "      <td>Y</td>\n",
       "    </tr>\n",
       "    <tr>\n",
       "      <th>1573</th>\n",
       "      <td>R2ZF9NYVT3J7D6</td>\n",
       "      <td>5</td>\n",
       "      <td>19</td>\n",
       "      <td>22</td>\n",
       "      <td>N</td>\n",
       "      <td>Y</td>\n",
       "    </tr>\n",
       "    <tr>\n",
       "      <th>...</th>\n",
       "      <td>...</td>\n",
       "      <td>...</td>\n",
       "      <td>...</td>\n",
       "      <td>...</td>\n",
       "      <td>...</td>\n",
       "      <td>...</td>\n",
       "    </tr>\n",
       "    <tr>\n",
       "      <th>960811</th>\n",
       "      <td>R3C9623WIPWVMB</td>\n",
       "      <td>5</td>\n",
       "      <td>56</td>\n",
       "      <td>58</td>\n",
       "      <td>N</td>\n",
       "      <td>N</td>\n",
       "    </tr>\n",
       "    <tr>\n",
       "      <th>960838</th>\n",
       "      <td>R7NJYD6L80A8</td>\n",
       "      <td>5</td>\n",
       "      <td>20</td>\n",
       "      <td>21</td>\n",
       "      <td>N</td>\n",
       "      <td>N</td>\n",
       "    </tr>\n",
       "    <tr>\n",
       "      <th>960860</th>\n",
       "      <td>R37CF8J75KF7ZR</td>\n",
       "      <td>2</td>\n",
       "      <td>35</td>\n",
       "      <td>66</td>\n",
       "      <td>N</td>\n",
       "      <td>N</td>\n",
       "    </tr>\n",
       "    <tr>\n",
       "      <th>960863</th>\n",
       "      <td>R1W6TRBVZSPGCJ</td>\n",
       "      <td>1</td>\n",
       "      <td>20</td>\n",
       "      <td>20</td>\n",
       "      <td>N</td>\n",
       "      <td>N</td>\n",
       "    </tr>\n",
       "    <tr>\n",
       "      <th>960866</th>\n",
       "      <td>R1LGRK91D2CS4N</td>\n",
       "      <td>4</td>\n",
       "      <td>32</td>\n",
       "      <td>39</td>\n",
       "      <td>N</td>\n",
       "      <td>N</td>\n",
       "    </tr>\n",
       "  </tbody>\n",
       "</table>\n",
       "<p>8409 rows × 6 columns</p>\n",
       "</div>"
      ],
      "text/plain": [
       "             review_id  star_rating  helpful_votes  total_votes vine  \\\n",
       "478     R14W2VCHHK5V7W            5             19           20    N   \n",
       "552     R1S3T57O3OYT5S            5             19           20    N   \n",
       "619     R1BTWIBLYYVOV7            5             30           30    N   \n",
       "1548    R3PXNV89DFIXKV            5             35           37    N   \n",
       "1573    R2ZF9NYVT3J7D6            5             19           22    N   \n",
       "...                ...          ...            ...          ...  ...   \n",
       "960811  R3C9623WIPWVMB            5             56           58    N   \n",
       "960838    R7NJYD6L80A8            5             20           21    N   \n",
       "960860  R37CF8J75KF7ZR            2             35           66    N   \n",
       "960863  R1W6TRBVZSPGCJ            1             20           20    N   \n",
       "960866  R1LGRK91D2CS4N            4             32           39    N   \n",
       "\n",
       "       verified_purchase  \n",
       "478                    Y  \n",
       "552                    Y  \n",
       "619                    Y  \n",
       "1548                   Y  \n",
       "1573                   Y  \n",
       "...                  ...  \n",
       "960811                 N  \n",
       "960838                 N  \n",
       "960860                 N  \n",
       "960863                 N  \n",
       "960866                 N  \n",
       "\n",
       "[8409 rows x 6 columns]"
      ]
     },
     "execution_count": 4,
     "metadata": {},
     "output_type": "execute_result"
    }
   ],
   "source": [
    "vine_df_50 = vine_df_20.loc [(vine_df_20[\"helpful_votes\"] / vine_df_20[\"total_votes\"]) >= 0.50]\n",
    "vine_df_50"
   ]
  },
  {
   "cell_type": "code",
   "execution_count": 13,
   "id": "8bd7aa80-a98f-4ab2-b855-7bdb4d38fd6d",
   "metadata": {},
   "outputs": [
    {
     "data": {
      "text/plain": [
       "review_id            47\n",
       "star_rating          47\n",
       "helpful_votes        47\n",
       "total_votes          47\n",
       "vine                 47\n",
       "verified_purchase    47\n",
       "dtype: int64"
      ]
     },
     "execution_count": 13,
     "metadata": {},
     "output_type": "execute_result"
    }
   ],
   "source": [
    "\n",
    "paid_reviews_df = vine_df_50.loc[vine_df_50[\"vine\"] == 'Y'].count()\n",
    "paid_reviews_df"
   ]
  },
  {
   "cell_type": "code",
   "execution_count": 14,
   "id": "a8cc29e7-21ec-4604-a58f-eb28f2599bf6",
   "metadata": {},
   "outputs": [
    {
     "data": {
      "text/plain": [
       "review_id            8362\n",
       "star_rating          8362\n",
       "helpful_votes        8362\n",
       "total_votes          8362\n",
       "vine                 8362\n",
       "verified_purchase    8362\n",
       "dtype: int64"
      ]
     },
     "execution_count": 14,
     "metadata": {},
     "output_type": "execute_result"
    }
   ],
   "source": [
    "unpaid_reviews_df = vine_df_50.loc[vine_df_50[\"vine\"] == 'N'].count()\n",
    "unpaid_reviews_df"
   ]
  },
  {
   "cell_type": "code",
   "execution_count": 7,
   "id": "5a616c79-1bba-4021-8032-bc37e0397804",
   "metadata": {},
   "outputs": [
    {
     "data": {
      "text/plain": [
       "15"
      ]
     },
     "execution_count": 7,
     "metadata": {},
     "output_type": "execute_result"
    }
   ],
   "source": [
    "paid_5star_reviews = paid_reviews_df.loc[paid_reviews_df['star_rating'] == 5][\"star_rating\"].count()\n",
    "paid_5star_reviews"
   ]
  },
  {
   "cell_type": "code",
   "execution_count": 8,
   "id": "adbdf35e-f666-4352-87ea-e0201e3ab21a",
   "metadata": {},
   "outputs": [
    {
     "data": {
      "text/plain": [
       "47"
      ]
     },
     "execution_count": 8,
     "metadata": {},
     "output_type": "execute_result"
    }
   ],
   "source": [
    "paid_reviews = paid_reviews_df[\"star_rating\"].count()\n",
    "paid_reviews"
   ]
  },
  {
   "cell_type": "code",
   "execution_count": 9,
   "id": "7b602793-ad9c-426c-9326-d53fccbb149c",
   "metadata": {},
   "outputs": [
    {
     "data": {
      "text/plain": [
       "31.91"
      ]
     },
     "execution_count": 9,
     "metadata": {},
     "output_type": "execute_result"
    }
   ],
   "source": [
    "percentage_paid_5star_reviews = round ((paid_5star_reviews / paid_reviews) * 100, 2)\n",
    "percentage_paid_5star_reviews"
   ]
  },
  {
   "cell_type": "code",
   "execution_count": 10,
   "id": "d80a5f54-2337-45dc-9b48-973cf8611b06",
   "metadata": {},
   "outputs": [
    {
     "data": {
      "text/plain": [
       "4332"
      ]
     },
     "execution_count": 10,
     "metadata": {},
     "output_type": "execute_result"
    }
   ],
   "source": [
    "unpaid_5star_reviews = unpaid_reviews_df.loc[unpaid_reviews_df[\"star_rating\"] == 5][\"star_rating\"].count()\n",
    "unpaid_5star_reviews"
   ]
  },
  {
   "cell_type": "code",
   "execution_count": 11,
   "id": "b44ee220-d550-448f-bcd5-2ffe51c6876c",
   "metadata": {},
   "outputs": [
    {
     "data": {
      "text/plain": [
       "8362"
      ]
     },
     "execution_count": 11,
     "metadata": {},
     "output_type": "execute_result"
    }
   ],
   "source": [
    "unpaid_reviews = unpaid_reviews_df[\"star_rating\"].count()\n",
    "unpaid_reviews"
   ]
  },
  {
   "cell_type": "code",
   "execution_count": 12,
   "id": "b4f32288-6247-435d-b15a-d803badfd323",
   "metadata": {},
   "outputs": [
    {
     "data": {
      "text/plain": [
       "51.81"
      ]
     },
     "execution_count": 12,
     "metadata": {},
     "output_type": "execute_result"
    }
   ],
   "source": [
    "percentage_unpaid_5star_reviews = round ((unpaid_5star_reviews / unpaid_reviews) * 100, 2)\n",
    "percentage_unpaid_5star_reviews"
   ]
  }
 ],
 "metadata": {
  "kernelspec": {
   "display_name": "PythonData",
   "language": "python",
   "name": "pythondata"
  },
  "language_info": {
   "codemirror_mode": {
    "name": "ipython",
    "version": 3
   },
   "file_extension": ".py",
   "mimetype": "text/x-python",
   "name": "python",
   "nbconvert_exporter": "python",
   "pygments_lexer": "ipython3",
   "version": "3.9.12"
  }
 },
 "nbformat": 4,
 "nbformat_minor": 5
}
